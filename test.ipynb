{
 "cells": [
  {
   "cell_type": "code",
   "execution_count": 1,
   "metadata": {},
   "outputs": [],
   "source": [
    "class Washer():\n",
    "    def wash(self):\n",
    "        print('能洗衣服')\n",
    "        print(self)"
   ]
  },
  {
   "cell_type": "code",
   "execution_count": 5,
   "metadata": {},
   "outputs": [
    {
     "name": "stdout",
     "output_type": "stream",
     "text": [
      "能洗衣服\n",
      "<__main__.Washer object at 0x0000028D03396310>\n"
     ]
    }
   ],
   "source": [
    "haier1 = Washer()\n",
    "haier1.wash()\n"
   ]
  },
  {
   "cell_type": "code",
   "execution_count": 7,
   "metadata": {},
   "outputs": [],
   "source": [
    "haier1.width = 500\n",
    "haier1.height = 600"
   ]
  },
  {
   "cell_type": "code",
   "execution_count": 9,
   "metadata": {},
   "outputs": [
    {
     "name": "stdout",
     "output_type": "stream",
     "text": [
      "500\n"
     ]
    }
   ],
   "source": [
    "print(haier1.width)"
   ]
  },
  {
   "cell_type": "code",
   "execution_count": 6,
   "metadata": {},
   "outputs": [
    {
     "name": "stdout",
     "output_type": "stream",
     "text": [
      "能洗衣服\n",
      "<__main__.Washer object at 0x0000028D0377A310>\n"
     ]
    }
   ],
   "source": [
    "haier2 = Washer()\n",
    "haier2.wash()"
   ]
  },
  {
   "cell_type": "code",
   "execution_count": 13,
   "metadata": {},
   "outputs": [],
   "source": [
    "class Washer():\n",
    "    # 定义__init__, 添加实例属性\n",
    "    def __init__(self):\n",
    "        # 添加实例属性\n",
    "        self.width =500\n",
    "        self.height =8000\n",
    "\n",
    "    def print_info(self):\n",
    "        print(self.width)"
   ]
  },
  {
   "cell_type": "code",
   "execution_count": 14,
   "metadata": {},
   "outputs": [
    {
     "name": "stdout",
     "output_type": "stream",
     "text": [
      "500\n"
     ]
    }
   ],
   "source": [
    "haier1 = Washer()\n",
    "haier1.print_info()"
   ]
  },
  {
   "cell_type": "code",
   "execution_count": 2,
   "metadata": {},
   "outputs": [],
   "source": [
    "class SweetPotato():\n",
    "    def __init__(self):\n",
    "        #被烤时间\n",
    "        self.cook_time = 0\n",
    "        #被烤状态\n",
    "        self.cook_static = '生的'\n",
    "        #调料列表\n",
    "        self.condiments = []\n",
    "    \n",
    "    def cook(self,time):\n",
    "        \"\"\"\n",
    "        烤地瓜的方法\n",
    "        \"\"\"\n",
    "        self.cook_time += time\n",
    "        if 0 <= self.cook_time < 3:\n",
    "            self.cook_static = '生的'\n",
    "        elif 3 <= self.cook_time < 5:\n",
    "            self.cook_static = '半生不熟的'\n",
    "        elif 5 <= self.cook_time < 8:\n",
    "            self.cook_static = '熟了'\n",
    "        elif 8 <= self.cook_time:\n",
    "            self.cook_static = '烤糊了'\n",
    "\n",
    "    def __str__(self):\n",
    "        return f'这个地瓜烤了{self.cook_time}分钟，状态是{self.cook_static}'"
   ]
  },
  {
   "cell_type": "code",
   "execution_count": 3,
   "metadata": {},
   "outputs": [
    {
     "name": "stdout",
     "output_type": "stream",
     "text": [
      "这个地瓜烤了0分钟，状态是生的\n"
     ]
    }
   ],
   "source": [
    "digua1 = SweetPotato()\n",
    "print(digua1)"
   ]
  },
  {
   "cell_type": "code",
   "execution_count": 4,
   "metadata": {},
   "outputs": [
    {
     "name": "stdout",
     "output_type": "stream",
     "text": [
      "这个地瓜烤了2分钟，状态是生的\n"
     ]
    }
   ],
   "source": [
    "digua1.cook(2)\n",
    "print(digua1)"
   ]
  },
  {
   "cell_type": "code",
   "execution_count": 5,
   "metadata": {},
   "outputs": [
    {
     "name": "stdout",
     "output_type": "stream",
     "text": [
      "这个地瓜烤了4分钟，状态是半生不熟的\n"
     ]
    }
   ],
   "source": [
    "digua1.cook(2)\n",
    "print(digua1)"
   ]
  }
 ],
 "metadata": {
  "kernelspec": {
   "display_name": "base",
   "language": "python",
   "name": "python3"
  },
  "language_info": {
   "codemirror_mode": {
    "name": "ipython",
    "version": 3
   },
   "file_extension": ".py",
   "mimetype": "text/x-python",
   "name": "python",
   "nbconvert_exporter": "python",
   "pygments_lexer": "ipython3",
   "version": "3.9.13"
  },
  "orig_nbformat": 4,
  "vscode": {
   "interpreter": {
    "hash": "88279d2366fe020547cde40dd65aa0e3aa662a6ec1f3ca12d88834876c85e1a6"
   }
  }
 },
 "nbformat": 4,
 "nbformat_minor": 2
}
